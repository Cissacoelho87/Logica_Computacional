{
 "cells": [
  {
   "cell_type": "code",
   "execution_count": 7,
   "id": "ed703357-6869-438f-9cb1-4c24c502e2b4",
   "metadata": {},
   "outputs": [
    {
     "name": "stdout",
     "output_type": "stream",
     "text": [
      "Caneta usada: azul\n",
      "p (com caneta azul): False\n",
      "¬p (não com caneta azul): True\n"
     ]
    }
   ],
   "source": [
    "# Valor observado (troque para \"preta\", \"vermelha\", \"verde\" etc.)\n",
    "caneta = \"azul\"\n",
    "\n",
    "# Proposição: \"foi com caneta azul\"\n",
    "p = (caneta.lower() == \"azul\")\n",
    "\n",
    "# Negação da proposição\n",
    "nao_p = not p\n",
    "\n",
    "print(\"Caneta usada:\", caneta)\n",
    "print(\"p (com caneta azul):\", p)\n",
    "print(\"¬p (não com caneta azul):\", nao_p)"
   ]
  },
  {
   "cell_type": "code",
   "execution_count": 9,
   "id": "431588d7-8e55-4066-847e-1d7931315de7",
   "metadata": {},
   "outputs": [
    {
     "name": "stdout",
     "output_type": "stream",
     "text": [
      "Caneta usada: preta\n",
      "p (com caneta azul): False\n",
      "¬p (não com caneta azul): True\n"
     ]
    }
   ],
   "source": [
    "# Valor observado (troque para \"preta\", \"vermelha\", \"verde\" etc.)\n",
    "caneta = \"preta\"\n",
    "\n",
    "# Proposição: \"foi com caneta azul\"\n",
    "p = (caneta.lower() == \"azul\")\n",
    "\n",
    "# Negação da proposição\n",
    "nao_p = not p\n",
    "\n",
    "print(\"Caneta usada:\", caneta)\n",
    "print(\"p (com caneta azul):\", p)\n",
    "print(\"¬p (não com caneta azul):\", nao_p)"
   ]
  },
  {
   "cell_type": "code",
   "execution_count": 13,
   "id": "a7b23654-f00a-4826-a9da-776b1e869399",
   "metadata": {},
   "outputs": [
    {
     "name": "stdout",
     "output_type": "stream",
     "text": [
      "Caneta usada: verde\n",
      "p (com caneta verde): True\n",
      "¬p (não com caneta verde): False\n"
     ]
    }
   ],
   "source": [
    "# Valor observado (troque para \"preta\", \"vermelha\", \"verde\" etc.)\n",
    "caneta = \"verde\"\n",
    "\n",
    "# Proposição: \"foi com caneta azul\"\n",
    "p = (caneta.lower() == \"verde\")\n",
    "\n",
    "# Negação da proposição\n",
    "nao_p = not p\n",
    "\n",
    "print(\"Caneta usada:\", caneta)\n",
    "print(\"p (com caneta verde):\", p)\n",
    "print(\"¬p (não com caneta verde):\", nao_p)"
   ]
  },
  {
   "cell_type": "code",
   "execution_count": 8,
   "id": "659d7dd7-0bf9-4e01-b6cd-371fc209d76c",
   "metadata": {},
   "outputs": [
    {
     "name": "stdout",
     "output_type": "stream",
     "text": [
      "Caneta usada: amarela\n",
      "p (com caneta amarela): True\n",
      "¬p (não com caneta amarela): False\n"
     ]
    }
   ],
   "source": [
    "# Valor observado (troque para \"preta\", \"vermelha\", \"verde\" etc.)\n",
    "caneta = \"amarela\"\n",
    "\n",
    "# Proposição: \"foi com caneta azul\"\n",
    "p = (caneta.lower() == \"amarela\")\n",
    "\n",
    "# Negação da proposição\n",
    "nao_p = not p\n",
    "\n",
    "print(\"Caneta usada:\", caneta)\n",
    "print(\"p (com caneta amarela):\", p)\n",
    "print(\"¬p (não com caneta amarela):\", nao_p)"
   ]
  },
  {
   "cell_type": "code",
   "execution_count": null,
   "id": "6bfe0bb2-a2c7-472f-82a8-f547bfe3e648",
   "metadata": {},
   "outputs": [],
   "source": []
  }
 ],
 "metadata": {
  "kernelspec": {
   "display_name": "Python 3 (ipykernel)",
   "language": "python",
   "name": "python3"
  },
  "language_info": {
   "codemirror_mode": {
    "name": "ipython",
    "version": 3
   },
   "file_extension": ".py",
   "mimetype": "text/x-python",
   "name": "python",
   "nbconvert_exporter": "python",
   "pygments_lexer": "ipython3",
   "version": "3.13.5"
  }
 },
 "nbformat": 4,
 "nbformat_minor": 5
}
